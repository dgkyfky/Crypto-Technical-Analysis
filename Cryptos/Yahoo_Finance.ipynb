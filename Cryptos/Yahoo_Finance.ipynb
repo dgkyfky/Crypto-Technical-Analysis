{
 "cells": [
  {
   "cell_type": "code",
   "execution_count": 4,
   "metadata": {
    "colab": {},
    "colab_type": "code",
    "id": "836bT9etufmP",
    "scrolled": false
   },
   "outputs": [],
   "source": [
    "#!pip install yfinance\n",
    "from datetime import date\n",
    "import yfinance as yf\n",
    "import pandas as pd\n",
    "from pandas_datareader import data as pdr"
   ]
  },
  {
   "cell_type": "code",
   "execution_count": 6,
   "metadata": {
    "colab": {},
    "colab_type": "code",
    "executionInfo": {
     "elapsed": 617,
     "status": "ok",
     "timestamp": 1594838568945,
     "user": {
      "displayName": "Dylan Guelman",
      "photoUrl": "",
      "userId": "18087269499432751260"
     },
     "user_tz": 180
    },
    "id": "479MavFUufmU"
   },
   "outputs": [],
   "source": [
    "acciones = 'BMA.BA'\n",
    "start_date = \"2014-01-01\"\n",
    "end_date = \"2020-12-31\"\n",
    "intervalo = '1d'"
   ]
  },
  {
   "cell_type": "code",
   "execution_count": null,
   "metadata": {
    "colab": {},
    "colab_type": "code",
    "id": "dWegpwx9zb5h"
   },
   "outputs": [],
   "source": [
    "from google.colab import drive\n",
    "drive.mount('/content/gdrive')"
   ]
  },
  {
   "cell_type": "code",
   "execution_count": null,
   "metadata": {
    "colab": {},
    "colab_type": "code",
    "id": "28iRpRJKzel7"
   },
   "outputs": [],
   "source": [
    "cd /content/gdrive/My Drive/Invest"
   ]
  },
  {
   "cell_type": "code",
   "execution_count": null,
   "metadata": {
    "colab": {},
    "colab_type": "code",
    "id": "Bw3h-3B3ufmY",
    "scrolled": true
   },
   "outputs": [],
   "source": [
    "#df = pd.DataFrame(columns=['Date'])\n",
    "#df.set_index('Date',inplace=True)\n",
    "#for i in acciones:\n",
    "#    data = yf.download(\"{}\".format(i), start = start_date, end = end_date)[['Adj Close']]\n",
    "#    data.columns = ['{}'.format(i)]\n",
    "#    df = df.merge(data, how='outer',left_index=True,right_index=True)\n",
    "#df.sort_values('Date',ascending=True,inplace=True)"
   ]
  },
  {
   "cell_type": "code",
   "execution_count": null,
   "metadata": {
    "colab": {
     "base_uri": "https://localhost:8080/",
     "height": 35
    },
    "colab_type": "code",
    "executionInfo": {
     "elapsed": 1023,
     "status": "ok",
     "timestamp": 1594838573057,
     "user": {
      "displayName": "Dylan Guelman",
      "photoUrl": "",
      "userId": "18087269499432751260"
     },
     "user_tz": 180
    },
    "id": "Mw9ePQv8ufmb",
    "outputId": "fb4e89d2-f2b8-4d55-c5a2-7bf4917f7112",
    "scrolled": true
   },
   "outputs": [
    {
     "name": "stderr",
     "output_type": "stream",
     "text": [
      "Exception in thread Thread-10:\n",
      "Traceback (most recent call last):\n",
      "  File \"C:\\Users\\dguelman\\Anaconda3\\lib\\threading.py\", line 932, in _bootstrap_inner\n",
      "    self.run()\n",
      "  File \"C:\\Users\\dguelman\\Anaconda3\\lib\\threading.py\", line 870, in run\n",
      "    self._target(*self._args, **self._kwargs)\n",
      "  File \"C:\\Users\\dguelman\\Anaconda3\\lib\\site-packages\\multitasking\\__init__.py\", line 102, in _run_via_pool\n",
      "    return callee(*args, **kwargs)\n",
      "  File \"C:\\Users\\dguelman\\Anaconda3\\lib\\site-packages\\yfinance\\multi.py\", line 166, in _download_one_threaded\n",
      "    data = _download_one(ticker, start, end, auto_adjust, back_adjust,\n",
      "  File \"C:\\Users\\dguelman\\Anaconda3\\lib\\site-packages\\yfinance\\multi.py\", line 178, in _download_one\n",
      "    return Ticker(ticker).history(period=period, interval=interval,\n",
      "  File \"C:\\Users\\dguelman\\Anaconda3\\lib\\site-packages\\yfinance\\base.py\", line 156, in history\n",
      "    data = data.json()\n",
      "  File \"C:\\Users\\dguelman\\Anaconda3\\lib\\site-packages\\requests\\models.py\", line 898, in json\n",
      "    return complexjson.loads(self.text, **kwargs)\n",
      "  File \"C:\\Users\\dguelman\\Anaconda3\\lib\\json\\__init__.py\", line 357, in loads\n",
      "    return _default_decoder.decode(s)\n",
      "  File \"C:\\Users\\dguelman\\Anaconda3\\lib\\json\\decoder.py\", line 337, in decode\n",
      "    obj, end = self.raw_decode(s, idx=_w(s, 0).end())\n",
      "  File \"C:\\Users\\dguelman\\Anaconda3\\lib\\json\\decoder.py\", line 355, in raw_decode\n",
      "    raise JSONDecodeError(\"Expecting value\", s, err.value) from None\n",
      "json.decoder.JSONDecodeError: Expecting value: line 1 column 1 (char 0)\n"
     ]
    }
   ],
   "source": [
    "df = yf.download(\n",
    "    acciones,\n",
    "    start = start_date,\n",
    "    end = end_date,\n",
    "    interval = intervalo\n",
    "#    group_by=\"ticker\" #Para ordenar por cuenta y no por columna\n",
    ")['Adj Close']\n",
    "df.sort_values('Date',ascending=True,inplace=True)"
   ]
  },
  {
   "cell_type": "code",
   "execution_count": null,
   "metadata": {
    "colab": {
     "base_uri": "https://localhost:8080/",
     "height": 233
    },
    "colab_type": "code",
    "executionInfo": {
     "elapsed": 669,
     "status": "ok",
     "timestamp": 1594838574267,
     "user": {
      "displayName": "Dylan Guelman",
      "photoUrl": "",
      "userId": "18087269499432751260"
     },
     "user_tz": 180
    },
    "id": "q4tnYYvvvJp-",
    "outputId": "68ecba1c-e187-4dad-f047-97ff6674cf82"
   },
   "outputs": [],
   "source": [
    "df.head()"
   ]
  },
  {
   "cell_type": "code",
   "execution_count": 38,
   "metadata": {
    "colab": {},
    "colab_type": "code",
    "executionInfo": {
     "elapsed": 638,
     "status": "ok",
     "timestamp": 1594838654063,
     "user": {
      "displayName": "Dylan Guelman",
      "photoUrl": "",
      "userId": "18087269499432751260"
     },
     "user_tz": 180
    },
    "id": "wpbVFI7bxVxc"
   },
   "outputs": [],
   "source": [
    "df.to_excel('MACRO.xlsx')"
   ]
  },
  {
   "cell_type": "code",
   "execution_count": 24,
   "metadata": {
    "colab": {
     "base_uri": "https://localhost:8080/",
     "height": 35
    },
    "colab_type": "code",
    "executionInfo": {
     "elapsed": 639,
     "status": "ok",
     "timestamp": 1594838248006,
     "user": {
      "displayName": "Dylan Guelman",
      "photoUrl": "",
      "userId": "18087269499432751260"
     },
     "user_tz": 180
    },
    "id": "5wyoiSbOufmg",
    "outputId": "a772bb5a-de2c-440e-9ab9-5979cfec2243"
   },
   "outputs": [
    {
     "data": {
      "text/plain": [
       "['ARS=X', ' MXN=X', ' COP=X', ' CLP=X', ' BRL=X']"
      ]
     },
     "execution_count": 24,
     "metadata": {
      "tags": []
     },
     "output_type": "execute_result"
    }
   ],
   "source": [
    "acciones.split(',')"
   ]
  },
  {
   "cell_type": "code",
   "execution_count": null,
   "metadata": {
    "colab": {},
    "colab_type": "code",
    "id": "iHjjle0Fufmj",
    "scrolled": true
   },
   "outputs": [],
   "source": [
    "df = df[acciones.split(',')]"
   ]
  },
  {
   "cell_type": "code",
   "execution_count": null,
   "metadata": {
    "colab": {},
    "colab_type": "code",
    "id": "YmIx0aMXufmm",
    "outputId": "1210f166-0763-481f-9453-9dc64eeeda7e",
    "scrolled": true
   },
   "outputs": [
    {
     "data": {
      "text/html": [
       "<div>\n",
       "<style scoped>\n",
       "    .dataframe tbody tr th:only-of-type {\n",
       "        vertical-align: middle;\n",
       "    }\n",
       "\n",
       "    .dataframe tbody tr th {\n",
       "        vertical-align: top;\n",
       "    }\n",
       "\n",
       "    .dataframe thead th {\n",
       "        text-align: right;\n",
       "    }\n",
       "</style>\n",
       "<table border=\"1\" class=\"dataframe\">\n",
       "  <thead>\n",
       "    <tr style=\"text-align: right;\">\n",
       "      <th></th>\n",
       "      <th>GGAL.BA</th>\n",
       "      <th>YPFD.BA</th>\n",
       "      <th>TGNO4.BA</th>\n",
       "      <th>SUPV.BA</th>\n",
       "      <th>BYMA.BA</th>\n",
       "    </tr>\n",
       "    <tr>\n",
       "      <th>Date</th>\n",
       "      <th></th>\n",
       "      <th></th>\n",
       "      <th></th>\n",
       "      <th></th>\n",
       "      <th></th>\n",
       "    </tr>\n",
       "  </thead>\n",
       "  <tbody>\n",
       "    <tr>\n",
       "      <td>2020-01-06</td>\n",
       "      <td>124.900002</td>\n",
       "      <td>860.799988</td>\n",
       "      <td>40.950001</td>\n",
       "      <td>56.400002</td>\n",
       "      <td>306.718842</td>\n",
       "    </tr>\n",
       "    <tr>\n",
       "      <td>2020-01-16</td>\n",
       "      <td>125.900002</td>\n",
       "      <td>860.200012</td>\n",
       "      <td>43.299999</td>\n",
       "      <td>55.000000</td>\n",
       "      <td>293.856415</td>\n",
       "    </tr>\n",
       "    <tr>\n",
       "      <td>2020-01-21</td>\n",
       "      <td>123.699997</td>\n",
       "      <td>810.200012</td>\n",
       "      <td>42.950001</td>\n",
       "      <td>53.049999</td>\n",
       "      <td>302.266449</td>\n",
       "    </tr>\n",
       "  </tbody>\n",
       "</table>\n",
       "</div>"
      ],
      "text/plain": [
       "               GGAL.BA     YPFD.BA   TGNO4.BA    SUPV.BA     BYMA.BA\n",
       "Date                                                                \n",
       "2020-01-06  124.900002  860.799988  40.950001  56.400002  306.718842\n",
       "2020-01-16  125.900002  860.200012  43.299999  55.000000  293.856415\n",
       "2020-01-21  123.699997  810.200012  42.950001  53.049999  302.266449"
      ]
     },
     "execution_count": 34,
     "metadata": {
      "tags": []
     },
     "output_type": "execute_result"
    }
   ],
   "source": [
    "df"
   ]
  },
  {
   "cell_type": "code",
   "execution_count": null,
   "metadata": {
    "colab": {},
    "colab_type": "code",
    "id": "9-gg09qfufmp",
    "outputId": "646895ae-e13e-4dcd-a9dd-5ae41af7905a"
   },
   "outputs": [
    {
     "name": "stdout",
     "output_type": "stream",
     "text": [
      "yfinance.Ticker object <GGAL>\n"
     ]
    }
   ],
   "source": [
    "ggal = yf.Ticker(\"GGAL\")\n",
    "print(ggal)"
   ]
  },
  {
   "cell_type": "code",
   "execution_count": null,
   "metadata": {
    "colab": {},
    "colab_type": "code",
    "id": "5k8kgIYgufms",
    "outputId": "ce2d2b87-f478-4124-bc66-5aa5d91b7545"
   },
   "outputs": [
    {
     "data": {
      "text/plain": [
       "{'zip': '1038',\n",
       " 'sector': 'Financial Services',\n",
       " 'fullTimeEmployees': 9718,\n",
       " 'longBusinessSummary': 'Grupo Financiero Galicia S.A., a financial services holding company, provides various financial products and services in Argentina. The company operates through Banks, Regional Credit Cards, Insurance, and Other Businesses segments. It offers large-corporations banking, investment banking, and capital market services; middle-market banking; and banking services to agricultural sector. The company also provides checking and savings accounts, credit and debit cards, payroll direct deposits, and other services; personal loans and mortgages and time deposits; and financial products, payroll services, discount checks, and foreign trade transaction support services, as well as services to its high net worth customers. In addition, it offers financial investment alternatives, such as deposits, FIMA mutual funds, government and corporate securities, and shares and trusts; mutual funds; annuity products; life and personal accident insurance; property and casualty insurance products, such as home and ATM theft insurance; and insurance brokerage services, as well as issues credit cards. Further, the company engages in the management and administration of foreign currency positions, derivatives instruments, and government and corporate securities, as well as issues warrants to the agricultural, industrial, and agro-industrial sectors, as well as exporters and retailers. As of December 31, 2018, it had 325 full service banking branches; and 2,029 ATMs and self-service terminals. Grupo Financiero Galicia S.A. was founded in 1905 and is based in Buenos Aires, Argentina.',\n",
       " 'city': 'Buenos Aires',\n",
       " 'phone': '54 11 4343 7528',\n",
       " 'country': 'Argentina',\n",
       " 'companyOfficers': [],\n",
       " 'website': 'http://www.gfgsa.com',\n",
       " 'maxAge': 1,\n",
       " 'address1': 'Teniente General Juan D. Peron 430',\n",
       " 'industry': 'Banks—Regional',\n",
       " 'address2': '25th Floor',\n",
       " 'previousClose': 10.16,\n",
       " 'regularMarketOpen': 9,\n",
       " 'twoHundredDayAverage': 13.358541,\n",
       " 'trailingAnnualDividendYield': None,\n",
       " 'payoutRatio': 0.0469,\n",
       " 'volume24Hr': None,\n",
       " 'regularMarketDayHigh': 9.35,\n",
       " 'navPrice': None,\n",
       " 'averageDailyVolume10Day': 962850,\n",
       " 'totalAssets': None,\n",
       " 'regularMarketPreviousClose': 10.16,\n",
       " 'fiftyDayAverage': 13.731428,\n",
       " 'trailingAnnualDividendRate': None,\n",
       " 'open': 9,\n",
       " 'averageVolume10days': 962850,\n",
       " 'expireDate': None,\n",
       " 'yield': None,\n",
       " 'algorithm': None,\n",
       " 'dividendRate': 0.31,\n",
       " 'exDividendDate': 1557878400,\n",
       " 'beta': 1.411901,\n",
       " 'circulatingSupply': None,\n",
       " 'startDate': None,\n",
       " 'regularMarketDayLow': 8.45,\n",
       " 'priceHint': 2,\n",
       " 'currency': 'USD',\n",
       " 'regularMarketVolume': 943946,\n",
       " 'lastMarket': None,\n",
       " 'maxSupply': None,\n",
       " 'openInterest': None,\n",
       " 'marketCap': 1698727552,\n",
       " 'volumeAllCurrencies': None,\n",
       " 'strikePrice': None,\n",
       " 'averageVolume': 1247585,\n",
       " 'priceToSalesTrailing12Months': None,\n",
       " 'dayLow': 8.45,\n",
       " 'ask': 8.9,\n",
       " 'ytdReturn': None,\n",
       " 'askSize': 1000,\n",
       " 'volume': 943946,\n",
       " 'fiftyTwoWeekHigh': 39.22,\n",
       " 'forwardPE': 1.6062113,\n",
       " 'fromCurrency': None,\n",
       " 'fiveYearAvgDividendYield': 0.75,\n",
       " 'fiftyTwoWeekLow': 8.45,\n",
       " 'bid': 8.86,\n",
       " 'tradeable': True,\n",
       " 'dividendYield': 0.0277,\n",
       " 'bidSize': 900,\n",
       " 'dayHigh': 9.35,\n",
       " 'exchange': 'NMS',\n",
       " 'shortName': 'Grupo Financiero Galicia S.A.',\n",
       " 'longName': 'Grupo Financiero Galicia S.A.',\n",
       " 'exchangeTimezoneName': 'America/New_York',\n",
       " 'exchangeTimezoneShortName': 'EDT',\n",
       " 'isEsgPopulated': False,\n",
       " 'gmtOffSetMilliseconds': '-14400000',\n",
       " 'quoteType': 'EQUITY',\n",
       " 'symbol': 'GGAL',\n",
       " 'messageBoardId': 'finmb_1532718',\n",
       " 'market': 'us_market',\n",
       " 'annualHoldingsTurnover': None,\n",
       " 'enterpriseToRevenue': None,\n",
       " 'beta3Year': None,\n",
       " 'profitMargins': 0.36187,\n",
       " 'enterpriseToEbitda': None,\n",
       " '52WeekChange': -0.6259205,\n",
       " 'morningStarRiskRating': None,\n",
       " 'forwardEps': 5.49,\n",
       " 'revenueQuarterlyGrowth': None,\n",
       " 'sharesOutstanding': 142676000,\n",
       " 'fundInceptionDate': None,\n",
       " 'annualReportExpenseRatio': None,\n",
       " 'bookValue': None,\n",
       " 'sharesShort': 2437153,\n",
       " 'sharesPercentSharesOut': 0.0171,\n",
       " 'fundFamily': None,\n",
       " 'lastFiscalYearEnd': 1577750400,\n",
       " 'heldPercentInstitutions': 0.26195,\n",
       " 'netIncomeToCommon': None,\n",
       " 'trailingEps': None,\n",
       " 'lastDividendValue': None,\n",
       " 'SandP52WeekChange': -0.017961562,\n",
       " 'priceToBook': None,\n",
       " 'heldPercentInsiders': 0,\n",
       " 'nextFiscalYearEnd': 1640908800,\n",
       " 'mostRecentQuarter': 1577750400,\n",
       " 'shortRatio': 1.86,\n",
       " 'sharesShortPreviousMonthDate': 1580428800,\n",
       " 'floatShares': 103389070,\n",
       " 'enterpriseValue': 1578001664,\n",
       " 'threeYearAverageReturn': None,\n",
       " 'lastSplitDate': None,\n",
       " 'lastSplitFactor': None,\n",
       " 'legalType': None,\n",
       " 'morningStarOverallRating': None,\n",
       " 'earningsQuarterlyGrowth': 1.114,\n",
       " 'dateShortInterest': 1582848000,\n",
       " 'pegRatio': 0.05,\n",
       " 'lastCapGain': None,\n",
       " 'shortPercentOfFloat': None,\n",
       " 'sharesShortPriorMonth': 2383972,\n",
       " 'category': None,\n",
       " 'fiveYearAverageReturn': None,\n",
       " 'regularMarketPrice': 9,\n",
       " 'logo_url': 'https://logo.clearbit.com/gfgsa.com'}"
      ]
     },
     "execution_count": 27,
     "metadata": {
      "tags": []
     },
     "output_type": "execute_result"
    }
   ],
   "source": [
    "# get stock info\n",
    "ggal.info"
   ]
  },
  {
   "cell_type": "code",
   "execution_count": null,
   "metadata": {
    "colab": {},
    "colab_type": "code",
    "id": "pXlLJ8w1ufmv",
    "outputId": "c5eebf60-5961-40b0-9121-94e9d428e07a",
    "scrolled": true
   },
   "outputs": [
    {
     "data": {
      "text/html": [
       "<div>\n",
       "<style scoped>\n",
       "    .dataframe tbody tr th:only-of-type {\n",
       "        vertical-align: middle;\n",
       "    }\n",
       "\n",
       "    .dataframe tbody tr th {\n",
       "        vertical-align: top;\n",
       "    }\n",
       "\n",
       "    .dataframe thead th {\n",
       "        text-align: right;\n",
       "    }\n",
       "</style>\n",
       "<table border=\"1\" class=\"dataframe\">\n",
       "  <thead>\n",
       "    <tr style=\"text-align: right;\">\n",
       "      <th></th>\n",
       "      <th>Open</th>\n",
       "      <th>High</th>\n",
       "      <th>Low</th>\n",
       "      <th>Close</th>\n",
       "      <th>Volume</th>\n",
       "      <th>Dividends</th>\n",
       "      <th>Stock Splits</th>\n",
       "    </tr>\n",
       "    <tr>\n",
       "      <th>Date</th>\n",
       "      <th></th>\n",
       "      <th></th>\n",
       "      <th></th>\n",
       "      <th></th>\n",
       "      <th></th>\n",
       "      <th></th>\n",
       "      <th></th>\n",
       "    </tr>\n",
       "  </thead>\n",
       "  <tbody>\n",
       "    <tr>\n",
       "      <td>2000-07-25</td>\n",
       "      <td>16.33</td>\n",
       "      <td>16.58</td>\n",
       "      <td>15.65</td>\n",
       "      <td>16.35</td>\n",
       "      <td>126200</td>\n",
       "      <td>0.0</td>\n",
       "      <td>0</td>\n",
       "    </tr>\n",
       "    <tr>\n",
       "      <td>2000-07-26</td>\n",
       "      <td>16.11</td>\n",
       "      <td>16.41</td>\n",
       "      <td>16.06</td>\n",
       "      <td>16.35</td>\n",
       "      <td>28900</td>\n",
       "      <td>0.0</td>\n",
       "      <td>0</td>\n",
       "    </tr>\n",
       "    <tr>\n",
       "      <td>2000-07-27</td>\n",
       "      <td>16.35</td>\n",
       "      <td>16.47</td>\n",
       "      <td>16.23</td>\n",
       "      <td>16.35</td>\n",
       "      <td>61200</td>\n",
       "      <td>0.0</td>\n",
       "      <td>0</td>\n",
       "    </tr>\n",
       "    <tr>\n",
       "      <td>2000-07-28</td>\n",
       "      <td>16.41</td>\n",
       "      <td>16.41</td>\n",
       "      <td>16.00</td>\n",
       "      <td>16.23</td>\n",
       "      <td>146100</td>\n",
       "      <td>0.0</td>\n",
       "      <td>0</td>\n",
       "    </tr>\n",
       "    <tr>\n",
       "      <td>2000-07-31</td>\n",
       "      <td>16.35</td>\n",
       "      <td>16.52</td>\n",
       "      <td>15.76</td>\n",
       "      <td>16.52</td>\n",
       "      <td>178400</td>\n",
       "      <td>0.0</td>\n",
       "      <td>0</td>\n",
       "    </tr>\n",
       "    <tr>\n",
       "      <td>...</td>\n",
       "      <td>...</td>\n",
       "      <td>...</td>\n",
       "      <td>...</td>\n",
       "      <td>...</td>\n",
       "      <td>...</td>\n",
       "      <td>...</td>\n",
       "      <td>...</td>\n",
       "    </tr>\n",
       "    <tr>\n",
       "      <td>2020-03-06</td>\n",
       "      <td>12.67</td>\n",
       "      <td>13.03</td>\n",
       "      <td>12.18</td>\n",
       "      <td>12.22</td>\n",
       "      <td>880700</td>\n",
       "      <td>0.0</td>\n",
       "      <td>0</td>\n",
       "    </tr>\n",
       "    <tr>\n",
       "      <td>2020-03-09</td>\n",
       "      <td>11.10</td>\n",
       "      <td>11.48</td>\n",
       "      <td>9.96</td>\n",
       "      <td>9.96</td>\n",
       "      <td>1922400</td>\n",
       "      <td>0.0</td>\n",
       "      <td>0</td>\n",
       "    </tr>\n",
       "    <tr>\n",
       "      <td>2020-03-10</td>\n",
       "      <td>10.45</td>\n",
       "      <td>11.17</td>\n",
       "      <td>10.23</td>\n",
       "      <td>11.06</td>\n",
       "      <td>1225200</td>\n",
       "      <td>0.0</td>\n",
       "      <td>0</td>\n",
       "    </tr>\n",
       "    <tr>\n",
       "      <td>2020-03-11</td>\n",
       "      <td>10.63</td>\n",
       "      <td>10.82</td>\n",
       "      <td>9.94</td>\n",
       "      <td>10.16</td>\n",
       "      <td>781800</td>\n",
       "      <td>0.0</td>\n",
       "      <td>0</td>\n",
       "    </tr>\n",
       "    <tr>\n",
       "      <td>2020-03-12</td>\n",
       "      <td>9.00</td>\n",
       "      <td>9.35</td>\n",
       "      <td>8.45</td>\n",
       "      <td>8.85</td>\n",
       "      <td>945449</td>\n",
       "      <td>0.0</td>\n",
       "      <td>0</td>\n",
       "    </tr>\n",
       "  </tbody>\n",
       "</table>\n",
       "<p>4939 rows × 7 columns</p>\n",
       "</div>"
      ],
      "text/plain": [
       "             Open   High    Low  Close   Volume  Dividends  Stock Splits\n",
       "Date                                                                    \n",
       "2000-07-25  16.33  16.58  15.65  16.35   126200        0.0             0\n",
       "2000-07-26  16.11  16.41  16.06  16.35    28900        0.0             0\n",
       "2000-07-27  16.35  16.47  16.23  16.35    61200        0.0             0\n",
       "2000-07-28  16.41  16.41  16.00  16.23   146100        0.0             0\n",
       "2000-07-31  16.35  16.52  15.76  16.52   178400        0.0             0\n",
       "...           ...    ...    ...    ...      ...        ...           ...\n",
       "2020-03-06  12.67  13.03  12.18  12.22   880700        0.0             0\n",
       "2020-03-09  11.10  11.48   9.96   9.96  1922400        0.0             0\n",
       "2020-03-10  10.45  11.17  10.23  11.06  1225200        0.0             0\n",
       "2020-03-11  10.63  10.82   9.94  10.16   781800        0.0             0\n",
       "2020-03-12   9.00   9.35   8.45   8.85   945449        0.0             0\n",
       "\n",
       "[4939 rows x 7 columns]"
      ]
     },
     "execution_count": 30,
     "metadata": {
      "tags": []
     },
     "output_type": "execute_result"
    }
   ],
   "source": [
    "# get historical market data\n",
    "ggal.history(period=\"max\")"
   ]
  },
  {
   "cell_type": "code",
   "execution_count": null,
   "metadata": {
    "colab": {},
    "colab_type": "code",
    "id": "UmcWvBjRufmy",
    "outputId": "7e09148b-1e9f-4718-960b-60f3046ed53a",
    "scrolled": true
   },
   "outputs": [
    {
     "data": {
      "text/html": [
       "<div>\n",
       "<style scoped>\n",
       "    .dataframe tbody tr th:only-of-type {\n",
       "        vertical-align: middle;\n",
       "    }\n",
       "\n",
       "    .dataframe tbody tr th {\n",
       "        vertical-align: top;\n",
       "    }\n",
       "\n",
       "    .dataframe thead th {\n",
       "        text-align: right;\n",
       "    }\n",
       "</style>\n",
       "<table border=\"1\" class=\"dataframe\">\n",
       "  <thead>\n",
       "    <tr style=\"text-align: right;\">\n",
       "      <th></th>\n",
       "      <th>Dividends</th>\n",
       "      <th>Stock Splits</th>\n",
       "    </tr>\n",
       "    <tr>\n",
       "      <th>Date</th>\n",
       "      <th></th>\n",
       "      <th></th>\n",
       "    </tr>\n",
       "  </thead>\n",
       "  <tbody>\n",
       "    <tr>\n",
       "      <td>2001-03-27</td>\n",
       "      <td>0.297</td>\n",
       "      <td>0.0</td>\n",
       "    </tr>\n",
       "    <tr>\n",
       "      <td>2004-05-26</td>\n",
       "      <td>0.030</td>\n",
       "      <td>0.0</td>\n",
       "    </tr>\n",
       "    <tr>\n",
       "      <td>2011-05-11</td>\n",
       "      <td>0.049</td>\n",
       "      <td>0.0</td>\n",
       "    </tr>\n",
       "    <tr>\n",
       "      <td>2012-05-15</td>\n",
       "      <td>0.032</td>\n",
       "      <td>0.0</td>\n",
       "    </tr>\n",
       "    <tr>\n",
       "      <td>2014-05-22</td>\n",
       "      <td>0.037</td>\n",
       "      <td>0.0</td>\n",
       "    </tr>\n",
       "    <tr>\n",
       "      <td>2015-05-26</td>\n",
       "      <td>0.086</td>\n",
       "      <td>0.0</td>\n",
       "    </tr>\n",
       "    <tr>\n",
       "      <td>2016-05-19</td>\n",
       "      <td>0.082</td>\n",
       "      <td>0.0</td>\n",
       "    </tr>\n",
       "    <tr>\n",
       "      <td>2017-05-10</td>\n",
       "      <td>0.119</td>\n",
       "      <td>0.0</td>\n",
       "    </tr>\n",
       "    <tr>\n",
       "      <td>2018-05-11</td>\n",
       "      <td>0.362</td>\n",
       "      <td>0.0</td>\n",
       "    </tr>\n",
       "    <tr>\n",
       "      <td>2019-05-15</td>\n",
       "      <td>0.313</td>\n",
       "      <td>0.0</td>\n",
       "    </tr>\n",
       "  </tbody>\n",
       "</table>\n",
       "</div>"
      ],
      "text/plain": [
       "            Dividends  Stock Splits\n",
       "Date                               \n",
       "2001-03-27      0.297           0.0\n",
       "2004-05-26      0.030           0.0\n",
       "2011-05-11      0.049           0.0\n",
       "2012-05-15      0.032           0.0\n",
       "2014-05-22      0.037           0.0\n",
       "2015-05-26      0.086           0.0\n",
       "2016-05-19      0.082           0.0\n",
       "2017-05-10      0.119           0.0\n",
       "2018-05-11      0.362           0.0\n",
       "2019-05-15      0.313           0.0"
      ]
     },
     "execution_count": 32,
     "metadata": {
      "tags": []
     },
     "output_type": "execute_result"
    }
   ],
   "source": [
    "# show actions (dividends, splits)\n",
    "ggal.actions"
   ]
  },
  {
   "cell_type": "code",
   "execution_count": null,
   "metadata": {
    "colab": {},
    "colab_type": "code",
    "id": "CHSTErLMufm0",
    "outputId": "82892ded-40c1-4e8c-d23b-e98d7949063c",
    "scrolled": true
   },
   "outputs": [
    {
     "data": {
      "text/plain": [
       "Date\n",
       "2001-03-27    0.297\n",
       "2004-05-26    0.030\n",
       "2011-05-11    0.049\n",
       "2012-05-15    0.032\n",
       "2014-05-22    0.037\n",
       "2015-05-26    0.086\n",
       "2016-05-19    0.082\n",
       "2017-05-10    0.119\n",
       "2018-05-11    0.362\n",
       "2019-05-15    0.313\n",
       "Name: Dividends, dtype: float64"
      ]
     },
     "execution_count": 33,
     "metadata": {
      "tags": []
     },
     "output_type": "execute_result"
    }
   ],
   "source": [
    "# show dividends\n",
    "ggal.dividends"
   ]
  },
  {
   "cell_type": "code",
   "execution_count": null,
   "metadata": {
    "colab": {},
    "colab_type": "code",
    "id": "kR81YtmCufm3",
    "outputId": "2ce4f533-fcdd-405b-f774-0a73e95d8c08"
   },
   "outputs": [
    {
     "data": {
      "text/plain": [
       "Series([], Name: Stock Splits, dtype: int64)"
      ]
     },
     "execution_count": 35,
     "metadata": {
      "tags": []
     },
     "output_type": "execute_result"
    }
   ],
   "source": [
    "# show splits\n",
    "ggal.splits"
   ]
  },
  {
   "cell_type": "markdown",
   "metadata": {
    "colab_type": "text",
    "id": "NztbfUA9ufm7"
   },
   "source": [
    "period: data period to download (Either Use period parameter or use start and end) Valid periods are: 1d, 5d, 1mo, 3mo, 6mo, 1y, 2y, 5y, 10y, ytd, max\n",
    "interval: data interval (intraday data cannot extend last 60 days) Valid intervals are: 1m, 2m, 5m, 15m, 30m, 60m, 90m, 1h, 1d, 5d, 1wk, 1mo, 3mo\n",
    "start: If not using period - Download start date string (YYYY-MM-DD) or datetime.\n",
    "end: If not using period - Download end date string (YYYY-MM-DD) or datetime.\n",
    "prepost: Include Pre and Post market data in results? (Default is False)\n",
    "auto_adjust: Adjust all OHLC automatically? (Default is True)\n",
    "actions: Download stock dividends and stock splits events? (Default is True)"
   ]
  }
 ],
 "metadata": {
  "colab": {
   "name": "Yahoo_Finance.ipynb",
   "provenance": []
  },
  "kernelspec": {
   "display_name": "Python 3",
   "language": "python",
   "name": "python3"
  },
  "language_info": {
   "codemirror_mode": {
    "name": "ipython",
    "version": 3
   },
   "file_extension": ".py",
   "mimetype": "text/x-python",
   "name": "python",
   "nbconvert_exporter": "python",
   "pygments_lexer": "ipython3",
   "version": "3.8.8"
  }
 },
 "nbformat": 4,
 "nbformat_minor": 1
}
