{
 "cells": [
  {
   "cell_type": "markdown",
   "metadata": {},
   "source": [
    "#### Mostrar el funcionamiento de data_crypto.py"
   ]
  },
  {
   "cell_type": "code",
   "execution_count": 36,
   "metadata": {
    "scrolled": false
   },
   "outputs": [
    {
     "data": {
      "text/html": [
       "<div>\n",
       "<style scoped>\n",
       "    .dataframe tbody tr th:only-of-type {\n",
       "        vertical-align: middle;\n",
       "    }\n",
       "\n",
       "    .dataframe tbody tr th {\n",
       "        vertical-align: top;\n",
       "    }\n",
       "\n",
       "    .dataframe thead th {\n",
       "        text-align: right;\n",
       "    }\n",
       "</style>\n",
       "<table border=\"1\" class=\"dataframe\">\n",
       "  <thead>\n",
       "    <tr style=\"text-align: right;\">\n",
       "      <th></th>\n",
       "      <th>Date</th>\n",
       "      <th>Open</th>\n",
       "      <th>High</th>\n",
       "      <th>Low</th>\n",
       "      <th>Close</th>\n",
       "      <th>Volumen</th>\n",
       "      <th>Volumen USD</th>\n",
       "    </tr>\n",
       "  </thead>\n",
       "  <tbody>\n",
       "    <tr>\n",
       "      <th>0</th>\n",
       "      <td>2022-06-23 21:00:00</td>\n",
       "      <td>21110.12</td>\n",
       "      <td>21558.41</td>\n",
       "      <td>20736.72</td>\n",
       "      <td>21237.69</td>\n",
       "      <td>77430.36622</td>\n",
       "      <td>1.635129e+09</td>\n",
       "    </tr>\n",
       "    <tr>\n",
       "      <th>1</th>\n",
       "      <td>2022-06-24 21:00:00</td>\n",
       "      <td>21237.68</td>\n",
       "      <td>21614.50</td>\n",
       "      <td>20906.62</td>\n",
       "      <td>21491.19</td>\n",
       "      <td>51431.67794</td>\n",
       "      <td>1.093873e+09</td>\n",
       "    </tr>\n",
       "    <tr>\n",
       "      <th>2</th>\n",
       "      <td>2022-06-25 21:00:00</td>\n",
       "      <td>21491.18</td>\n",
       "      <td>21888.00</td>\n",
       "      <td>20964.73</td>\n",
       "      <td>21038.07</td>\n",
       "      <td>53278.10464</td>\n",
       "      <td>1.139258e+09</td>\n",
       "    </tr>\n",
       "    <tr>\n",
       "      <th>3</th>\n",
       "      <td>2022-06-26 21:00:00</td>\n",
       "      <td>21038.08</td>\n",
       "      <td>21539.85</td>\n",
       "      <td>20510.00</td>\n",
       "      <td>20742.56</td>\n",
       "      <td>64475.00130</td>\n",
       "      <td>1.354369e+09</td>\n",
       "    </tr>\n",
       "    <tr>\n",
       "      <th>4</th>\n",
       "      <td>2022-06-27 21:00:00</td>\n",
       "      <td>20742.57</td>\n",
       "      <td>21212.10</td>\n",
       "      <td>20202.01</td>\n",
       "      <td>20281.29</td>\n",
       "      <td>63801.08320</td>\n",
       "      <td>1.321863e+09</td>\n",
       "    </tr>\n",
       "  </tbody>\n",
       "</table>\n",
       "</div>"
      ],
      "text/plain": [
       "                 Date      Open      High       Low     Close      Volumen  \\\n",
       "0 2022-06-23 21:00:00  21110.12  21558.41  20736.72  21237.69  77430.36622   \n",
       "1 2022-06-24 21:00:00  21237.68  21614.50  20906.62  21491.19  51431.67794   \n",
       "2 2022-06-25 21:00:00  21491.18  21888.00  20964.73  21038.07  53278.10464   \n",
       "3 2022-06-26 21:00:00  21038.08  21539.85  20510.00  20742.56  64475.00130   \n",
       "4 2022-06-27 21:00:00  20742.57  21212.10  20202.01  20281.29  63801.08320   \n",
       "\n",
       "    Volumen USD  \n",
       "0  1.635129e+09  \n",
       "1  1.093873e+09  \n",
       "2  1.139258e+09  \n",
       "3  1.354369e+09  \n",
       "4  1.321863e+09  "
      ]
     },
     "execution_count": 36,
     "metadata": {},
     "output_type": "execute_result"
    }
   ],
   "source": [
    "from download import data_crypto\n",
    "con = data_crypto.data_crypto()\n",
    "\n",
    "params = {\"crypto\": 'BTC',\n",
    "          \"days_back\": 90,\n",
    "          \"time\": '1DAY'}\n",
    "\n",
    "c_data = con.crypto_download(params)\n",
    "c_data.head()"
   ]
  },
  {
   "cell_type": "code",
   "execution_count": null,
   "metadata": {},
   "outputs": [],
   "source": []
  }
 ],
 "metadata": {
  "kernelspec": {
   "display_name": "Python 3",
   "language": "python",
   "name": "python3"
  },
  "language_info": {
   "codemirror_mode": {
    "name": "ipython",
    "version": 3
   },
   "file_extension": ".py",
   "mimetype": "text/x-python",
   "name": "python",
   "nbconvert_exporter": "python",
   "pygments_lexer": "ipython3",
   "version": "3.8.8"
  }
 },
 "nbformat": 4,
 "nbformat_minor": 4
}
