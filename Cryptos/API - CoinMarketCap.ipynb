{
 "cells": [
  {
   "cell_type": "markdown",
   "id": "37490d4c",
   "metadata": {},
   "source": [
    "https://coinmarketcap.com/api/documentation/v1/#section/Standards-and-Conventions\n",
    "\n",
    "https://github.com/rsz44/python-coinmarketcap"
   ]
  },
  {
   "cell_type": "markdown",
   "id": "60d18339",
   "metadata": {},
   "source": [
    "No tiene NFS como symbol\n",
    "\n",
    "No podes descargar data historica\n",
    "\n",
    "Off"
   ]
  },
  {
   "cell_type": "code",
   "execution_count": 28,
   "id": "e223366b",
   "metadata": {
    "scrolled": true
   },
   "outputs": [
    {
     "name": "stdout",
     "output_type": "stream",
     "text": [
      "{'status': {'timestamp': '2021-12-21T19:31:42.768Z', 'error_code': 1006, 'error_message': \"Your API Key subscription plan doesn't support this endpoint.\", 'elapsed': 0, 'credit_count': 0}}\n"
     ]
    }
   ],
   "source": [
    "import requests\n",
    "import time\n",
    "\n",
    "headers = {\n",
    "    'X-CMC_PRO_API_KEY': '3e1c1f35-033c-4f6d-b490-220ca1872a43',\n",
    "    'Accepts': 'application/json'\n",
    "}\n",
    "\n",
    "params = {\n",
    "    'start':'1', #BTC es el 1\n",
    "    'limit':'1',\n",
    "    #'symbol': 'BTC',\n",
    "    'convert':'USD'\n",
    "}\n",
    "\n",
    "url = 'https://pro-api.coinmarketcap.com/v1/cryptocurrency/listings/historical'\n",
    "\n",
    "json = requests.get(url, params=params, headers=headers).json()\n",
    "\n",
    "print(json)"
   ]
  },
  {
   "cell_type": "code",
   "execution_count": null,
   "id": "7fd75e42",
   "metadata": {},
   "outputs": [],
   "source": []
  },
  {
   "cell_type": "code",
   "execution_count": 2,
   "id": "45f44cd2",
   "metadata": {},
   "outputs": [],
   "source": [
    "from coinmarketcapapi import CoinMarketCapAPI, CoinMarketCapAPIError"
   ]
  },
  {
   "cell_type": "code",
   "execution_count": 6,
   "id": "a7e4f837",
   "metadata": {
    "collapsed": true
   },
   "outputs": [
    {
     "name": "stderr",
     "output_type": "stream",
     "text": [
      "2021-12-21 15:59:15,284 root         DEBUG    GET SANDBOX '/cryptocurrency/info'\n",
      "PARAMETERS: {'symbol': 'NFS'}\n",
      "2021-12-21 15:59:15,985 root         DEBUG    RESPONSE: 701ms OK: {'NFS': {'urls': {'website': ['4sbabsk54le', 'dl8cbvm0on', 'cukfd96ymkq', 'ryj09nrdfxb', '5agdc4mmjvd', 'qhwo87n9kwd', '91w34uhi0ot', 'bch8tj1ioa6', '6ssp1vx0ebh', '9bh8lthexjs'], 'technical_doc': ['2s2hr0o377t', 'vlssaj1ltb', 'u0f2ib41roa', 'nfc3n5vnbs', '6u82d5fq1w', 'vb79ipeciy', 'exq0phi3uri', 'vlbvj708z0s', 'knk7wk0613', 'une6soj0s3c'], 'twitter': [], 'reddit': ['h6lq9ofaden', '3oudiyqhuip', 'c5eceeqfext', 'ftc5nwoe37e', 'rsdjnmemx4', '2xzugnqd2j', 'btmnnpqle0o', 'qjh2mtdhu4i', '3vfbgm46q42', 'bzjkl6z3bvl'], 'message_board': ['6qu18ey6vop', 'h75nn1e2e9d', 'mq3i0ylw5hg', '50k8iywra16', 'g6bd6bxgxvq', 'dd5eq19zdcf', '8ebfq3ghl8l', 'q0bct716apa', 'wjhf2hzske9', 'cnpe4dtzcto'], 'announcement': [], 'chat': [], 'explorer': ['6ejoicrsypw', '0mu79vdwzo9n', 'tj7pxd8mbw', '2aygezbybh2', '65bzb791s4', '7vr0ywi1qhe', 'fhjhgzppuc', '6xh9yamuwgi', 'vstld7b8wz', '1bxp8n2ew6b'], 'source_code': ['pdsel3spsv', 'eiuj16darmi', 'dauonulp19b', '6zxy2tqeyj4', 'qf35zxu6l8i', 'ewk5a64474p', 'vraomofetth', '50zmhpiqhtu', 'gz4c1d1pho7', 'i5dsu86eqp']}, 'logo': 'ju4m5hsbv2', 'id': 5370, 'name': '6he0l24om5', 'symbol': 'NFS', 'slug': 'izbx27i0dlp', 'description': 'das4xe7q77c', 'date_added': '2021-12-21T18:59:16.961Z', 'tags': ['79n0fgv0wqv', 'x2q0f1amka', 'pco35qks8z', '0tbdbm6f725', 'rwrslighcii', 'ht79lzh1owd', 'w0o6d3yj0xh', '0dabqvbe81vj', '0ctuxik1yp7g', '9oq9791rt9'], 'platform': None, 'category': 'dgjgvxw2ffo'}}\n"
     ]
    }
   ],
   "source": [
    "cmc = CoinMarketCapAPI(api_key='{3e1c1f35-033c-4f6d-b490-220ca1872a43}', sandbox=True, debug=True)\n",
    "r = cmc.cryptocurrency_info(symbol='NFS')"
   ]
  },
  {
   "cell_type": "code",
   "execution_count": 14,
   "id": "c6096d72",
   "metadata": {
    "collapsed": true
   },
   "outputs": [
    {
     "name": "stderr",
     "output_type": "stream",
     "text": [
      "2021-12-21 16:12:26,965 root         DEBUG    GET SANDBOX '/cryptocurrency/info'\n",
      "PARAMETERS: {'symbol': 'BTC'}\n",
      "2021-12-21 16:12:27,871 root         DEBUG    RESPONSE: 906ms OK: {'BTC': {'urls': {'website': ['w4d92ix4t1', '1lwqs7z2tme', '8e456cmk9ch', 'lvcdterf839', 'ifsi3zjn85s', 'f586v4f7u7f', 'qlk2r7vhqs9', 'f4x4vg15k67', '7pjfgnyh4l', 'q1ifysukkwj'], 'technical_doc': ['qqv3hfmc4r', 'k78ixglkun', 'p0cw6geujoc', 'myju468m9w', '9pnck5bdl94', 'hjfqpl8rz5e', 'vw5pv8n8pgh', '7ayawfyp0cl', 'yfxwacfst2i', 'fd9lgi82ogw'], 'twitter': [], 'reddit': ['4sgz94calvh', 'q7up8xe7zt', 'mz0jimwpapo', '6u7c45qq21i', 'bvbz77l130v', 'ocspzxj0su', 'rhxfupnvoz', '5gsipogzml7', 'l4dlcsy8e7', 'he81q70nnuk'], 'message_board': ['ling0qwibd', '0s7701f74kl', 'tx1rly7ygs9', 'qhy53k0hwc', 'wi9q4nia30h', '3mexolb4a71', 'm5wo79l1k6', 'j49yocstbea', '5zu7qikrxrs', 'hz6gkca57k'], 'announcement': [], 'chat': [], 'explorer': ['p6n02aqq4q', 'p3099tfx0qj', '0y378ghk16r', '780ze8cyxhe', '912zob2se1b', 'khbry653rc', 'byxdegq9e6f', 'k5xye2tn1r', '6xawzwnxdyt', 'wdxbc2aebcc'], 'source_code': ['vrh0hlv1x6', '6aw7hpuunpf', 'z2diovlio5e', '5slyxg0znbl', 's9azfy5jvqg', 'u77t244vs6g', 'xppli5yqskn', 'a23vlompa6r', 'iqdqebhz1a', 'bvonh5xbtua']}, 'logo': 'llg8h8xllda', 'id': 4991, 'name': 'svzwtsqhd2c', 'symbol': 'BTC', 'slug': '70lzxum2tw5', 'description': '5bddnmqwgac', 'date_added': '2021-12-21T19:12:28.864Z', 'tags': ['xvgrpfpfd58', '3tayv2rgi2b', '1nshz2ou79j', 'l54l2eano88', 'm8dsjn0mkqn', 'icsc76ywza9', 'z17cptypsmm', 'yb2e1ddrhns', 'hwfbv85yswu', 'k5q1m3ahbc'], 'platform': None, 'category': '1qeelxh6g4c'}}\n"
     ]
    },
    {
     "data": {
      "text/plain": [
       "{'BTC': {'urls': {'website': ['w4d92ix4t1',\n",
       "    '1lwqs7z2tme',\n",
       "    '8e456cmk9ch',\n",
       "    'lvcdterf839',\n",
       "    'ifsi3zjn85s',\n",
       "    'f586v4f7u7f',\n",
       "    'qlk2r7vhqs9',\n",
       "    'f4x4vg15k67',\n",
       "    '7pjfgnyh4l',\n",
       "    'q1ifysukkwj'],\n",
       "   'technical_doc': ['qqv3hfmc4r',\n",
       "    'k78ixglkun',\n",
       "    'p0cw6geujoc',\n",
       "    'myju468m9w',\n",
       "    '9pnck5bdl94',\n",
       "    'hjfqpl8rz5e',\n",
       "    'vw5pv8n8pgh',\n",
       "    '7ayawfyp0cl',\n",
       "    'yfxwacfst2i',\n",
       "    'fd9lgi82ogw'],\n",
       "   'twitter': [],\n",
       "   'reddit': ['4sgz94calvh',\n",
       "    'q7up8xe7zt',\n",
       "    'mz0jimwpapo',\n",
       "    '6u7c45qq21i',\n",
       "    'bvbz77l130v',\n",
       "    'ocspzxj0su',\n",
       "    'rhxfupnvoz',\n",
       "    '5gsipogzml7',\n",
       "    'l4dlcsy8e7',\n",
       "    'he81q70nnuk'],\n",
       "   'message_board': ['ling0qwibd',\n",
       "    '0s7701f74kl',\n",
       "    'tx1rly7ygs9',\n",
       "    'qhy53k0hwc',\n",
       "    'wi9q4nia30h',\n",
       "    '3mexolb4a71',\n",
       "    'm5wo79l1k6',\n",
       "    'j49yocstbea',\n",
       "    '5zu7qikrxrs',\n",
       "    'hz6gkca57k'],\n",
       "   'announcement': [],\n",
       "   'chat': [],\n",
       "   'explorer': ['p6n02aqq4q',\n",
       "    'p3099tfx0qj',\n",
       "    '0y378ghk16r',\n",
       "    '780ze8cyxhe',\n",
       "    '912zob2se1b',\n",
       "    'khbry653rc',\n",
       "    'byxdegq9e6f',\n",
       "    'k5xye2tn1r',\n",
       "    '6xawzwnxdyt',\n",
       "    'wdxbc2aebcc'],\n",
       "   'source_code': ['vrh0hlv1x6',\n",
       "    '6aw7hpuunpf',\n",
       "    'z2diovlio5e',\n",
       "    '5slyxg0znbl',\n",
       "    's9azfy5jvqg',\n",
       "    'u77t244vs6g',\n",
       "    'xppli5yqskn',\n",
       "    'a23vlompa6r',\n",
       "    'iqdqebhz1a',\n",
       "    'bvonh5xbtua']},\n",
       "  'logo': 'llg8h8xllda',\n",
       "  'id': 4991,\n",
       "  'name': 'svzwtsqhd2c',\n",
       "  'symbol': 'BTC',\n",
       "  'slug': '70lzxum2tw5',\n",
       "  'description': '5bddnmqwgac',\n",
       "  'date_added': '2021-12-21T19:12:28.864Z',\n",
       "  'tags': ['xvgrpfpfd58',\n",
       "   '3tayv2rgi2b',\n",
       "   '1nshz2ou79j',\n",
       "   'l54l2eano88',\n",
       "   'm8dsjn0mkqn',\n",
       "   'icsc76ywza9',\n",
       "   'z17cptypsmm',\n",
       "   'yb2e1ddrhns',\n",
       "   'hwfbv85yswu',\n",
       "   'k5q1m3ahbc'],\n",
       "  'platform': None,\n",
       "  'category': '1qeelxh6g4c'}}"
      ]
     },
     "execution_count": 14,
     "metadata": {},
     "output_type": "execute_result"
    }
   ],
   "source": [
    "r = cmc.cryptocurrency_info(symbol='BTC')\n",
    "r.data"
   ]
  },
  {
   "cell_type": "code",
   "execution_count": null,
   "id": "3f2404b7",
   "metadata": {},
   "outputs": [],
   "source": []
  },
  {
   "cell_type": "code",
   "execution_count": null,
   "id": "a6300ba6",
   "metadata": {},
   "outputs": [],
   "source": []
  },
  {
   "cell_type": "code",
   "execution_count": null,
   "id": "7ed945a7",
   "metadata": {},
   "outputs": [],
   "source": []
  }
 ],
 "metadata": {
  "kernelspec": {
   "display_name": "Python 3",
   "language": "python",
   "name": "python3"
  },
  "language_info": {
   "codemirror_mode": {
    "name": "ipython",
    "version": 3
   },
   "file_extension": ".py",
   "mimetype": "text/x-python",
   "name": "python",
   "nbconvert_exporter": "python",
   "pygments_lexer": "ipython3",
   "version": "3.8.8"
  }
 },
 "nbformat": 4,
 "nbformat_minor": 5
}
