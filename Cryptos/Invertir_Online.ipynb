{
 "cells": [
  {
   "cell_type": "code",
   "execution_count": 14,
   "metadata": {},
   "outputs": [],
   "source": [
    "#from tesis_connectors.Invertir_Online_TOKEN import Token\n",
    "import pandas as pd\n",
    "import requests\n",
    "pd.set_option('display.max_columns', None)"
   ]
  },
  {
   "cell_type": "markdown",
   "metadata": {},
   "source": [
    "# Obtener el Token"
   ]
  },
  {
   "cell_type": "markdown",
   "metadata": {},
   "source": [
    "Este token es válido por 15 minutos desde que se lo solicita"
   ]
  },
  {
   "cell_type": "code",
   "execution_count": 15,
   "metadata": {
    "scrolled": true
   },
   "outputs": [],
   "source": [
    "user_data = pd.read_json('user_data.json')"
   ]
  },
  {
   "cell_type": "code",
   "execution_count": 16,
   "metadata": {
    "scrolled": true
   },
   "outputs": [],
   "source": [
    "user_data = {\n",
    "            'Host': 'api.invertironline.com',\n",
    "            'username': user_data['username'],\n",
    "            'password': user_data['password'],\n",
    "            'grant_type': 'password'\n",
    "            }"
   ]
  },
  {
   "cell_type": "code",
   "execution_count": 17,
   "metadata": {},
   "outputs": [],
   "source": [
    "headers = {'Content-Type': 'application/x-www-form-urlencoded'}"
   ]
  },
  {
   "cell_type": "code",
   "execution_count": 18,
   "metadata": {},
   "outputs": [],
   "source": [
    "r = requests.post(url='https://api.invertironline.com/token', \n",
    "                  data=user_data, \n",
    "                  headers=headers)\n",
    "data = r.json()"
   ]
  },
  {
   "cell_type": "code",
   "execution_count": 19,
   "metadata": {},
   "outputs": [
    {
     "data": {
      "text/plain": [
       "{'access_token': '--_6ldstV8O99fP4Er-5PJ55tiyYmdW84b9IbUeB13wZAllyBBrDwz47NG1XuOTZZgYDkMfXRKXP1W5ZMAoNYR2m97gjOBHyCPHGsS7eU2RWjEir4vvJN6zf4PMjWnD6oD6nR4_KAWN5kEfPlaoCDjDUvPUq-KC9mUkzkoUf1_BIV5cyEmahge5lH7ldbqpFzp1v5uhQxkyjK_td3dlKTTpypPVCg3k1vZS3oLbw9T9cE7h6_mOpNBfG-Co-qhUdtaDJSMi-S_CYQJBfgapx0HuWB9IB5OambicuvwJws9J7VFRBwaUiQhaLtsfIBp6efeOKr9pVifWASHG09JescklzDoUS1t6-pxvv-MiAbASIxCi7QoCojsCA_-Y7oM-x-qCjpElx0TeguDUwS3NIvg',\n",
       " 'token_type': 'bearer',\n",
       " 'expires_in': 899,\n",
       " 'refresh_token': '8h062eCFLzL-jj2h9RwzaKc0xvgN5FWAJ0_Uu6u7zYZv9_MnNnge2uGsGgUfg6poSwwW_a9rLD_XkXcGU5KdrhmYO1GjyFhJAwCsjfoImA857QcPi1T2ujuD7gFk1pCcueHdeV9fNRcs2bBjEMoIlQnDepY0T25ddG-qPI30yH6rxaM39K63pw9Zv6UDmbofjSEMBqXMCNzpzMdM3akx38gpG3PUzMhagoKa0UTjTZLlQib4u-GIwoLSfKg_sKIYdpP7hznXJ3Pd0MVmUvoeMW5FIZrhDU648CgPbCcqkEhaXKNDzcVSVtUpGr__FVP9IyP2IkW7uTDiq8VbdriTaZ2FuAViOuIYNrmDzPCOSaeGKEhwUyOB8PxNdfnYEtjkth81uHmzUqebvSdNBspJpA',\n",
       " '.issued': 'Wed, 29 Sep 2021 15:43:29 GMT',\n",
       " '.expires': 'Wed, 29 Sep 2021 15:58:29 GMT',\n",
       " '.refreshexpires': 'Wed, 29 Sep 2021 16:43:29 GMT'}"
      ]
     },
     "execution_count": 19,
     "metadata": {},
     "output_type": "execute_result"
    }
   ],
   "source": [
    "data"
   ]
  },
  {
   "cell_type": "code",
   "execution_count": 20,
   "metadata": {},
   "outputs": [],
   "source": [
    "access_token = data['access_token']\n",
    "refresh_token = data['refresh_token']\n",
    "expires = data['.expires']"
   ]
  },
  {
   "cell_type": "markdown",
   "metadata": {},
   "source": [
    "# Refrescar Token"
   ]
  },
  {
   "cell_type": "code",
   "execution_count": 58,
   "metadata": {},
   "outputs": [],
   "source": [
    "body_refresh = {'refresh_token': refresh_token,\n",
    "                'grant_type': 'refresh_token'}"
   ]
  },
  {
   "cell_type": "code",
   "execution_count": 59,
   "metadata": {
    "scrolled": true
   },
   "outputs": [],
   "source": [
    "refresh = requests.post(url='https://api.invertironline.com/token',\n",
    "                        headers=headers,\n",
    "                        data=body_refresh)\n",
    "data_refresh = refresh.json()"
   ]
  },
  {
   "cell_type": "code",
   "execution_count": 60,
   "metadata": {},
   "outputs": [
    {
     "data": {
      "text/plain": [
       "{'access_token': 'QPR7iw0w-JjqrDSshnZ6nV3o5Inl5FWj8bnyNIeo2hmEzgcJpZJgufxolXrmkq4iqWwsKeGHiUc-a-UOMVWmknlWjhRh_e3fB8sojugHTnSgIfIZPj4siREWOsgD_B6R41gRTPyt0GpQ5eLVVwURReS2NLTt3VQwGfainpx2E13IQWvUN9eRr0YRwbr8ufOOGHmn8VOv_VNWg_jrv5-gL-MVE5ZYAJPHAU9B_u09nRhWi5I4Lp8foA_lsozmsrYH4DTTIhVa0NGA0ZnyEkmYcgJzwRuOq6EBds1kfuxhsqr8XlhKovsuQW7HMfF1Q2olprzPp1uIMhgicmR1lk5qpV8nydzHk6kPzlb0YJtrIpZSTaqtBXlMbooRP1463LAK1Vd0zSSUPebqnMUfXsphJg',\n",
       " 'token_type': 'bearer',\n",
       " 'expires_in': 899,\n",
       " 'refresh_token': 'I-Y1vb-YTL89hTug21gFX9vx1q3N298R4bxS7gDJJyDVe3quJbd6O6oK4z6u1_1fCMtzOII0Cl78Xcfb8zpQJ4eyc9oCsuBoeMlXH8p-a6pT6jrxGHuZaxzPykB6yfu9CfGnVNDhkehQjGqrwl7jMdQ3h4BoXDqddcGrBKz9_Oj_4JkhOQZwrkn7-WZmKWYb9E3Y4-fg4l2kU8p0R0pEOEas7vl-4-4BpoBwDoBM6-er4hMWrgKbz-Xto834qPZNKICQR41y4Ajx-YnkTeTFOPcKgZ1CKFKs73D7pqTxYuWUEk1LDzSWUVilb9y1Iwl7INze4AOfGgU72cB4-JGzmv6cOqSeM5nckXI-mPbm5ekVfwXeqqY7UM2FvnNfWhJ43il6ktq_pa5Qvoou0pLKZQ',\n",
       " '.issued': 'Wed, 29 Sep 2021 16:21:30 GMT',\n",
       " '.expires': 'Wed, 29 Sep 2021 16:36:30 GMT',\n",
       " '.refreshexpires': 'Wed, 29 Sep 2021 17:21:30 GMT'}"
      ]
     },
     "execution_count": 60,
     "metadata": {},
     "output_type": "execute_result"
    }
   ],
   "source": [
    "data_refresh"
   ]
  },
  {
   "cell_type": "code",
   "execution_count": 61,
   "metadata": {},
   "outputs": [],
   "source": [
    "access_token = data_refresh['access_token']\n",
    "refresh_token = data_refresh['refresh_token']\n",
    "expires = data_refresh['.expires']"
   ]
  },
  {
   "cell_type": "markdown",
   "metadata": {},
   "source": [
    "# Obtener info"
   ]
  },
  {
   "cell_type": "code",
   "execution_count": 62,
   "metadata": {},
   "outputs": [],
   "source": [
    "url = 'https://api.invertironline.com/api/v2/'"
   ]
  },
  {
   "cell_type": "code",
   "execution_count": 63,
   "metadata": {},
   "outputs": [],
   "source": [
    "mi_cuenta = ['estadocuenta', \n",
    "             'portafolio', \n",
    "             'operaciones']\n",
    "operar = ['operar/Vender', \n",
    "          'operar/Comprar', \n",
    "          'operar/rescate/fci', \n",
    "          'operar/suscripcion/fci']\n",
    "Titulos = ['Titulos/FCI', \n",
    "           'Titulos/FCI/{simbolo}', \n",
    "           'Titulos/FCI/TipoFondos', \n",
    "           'Titulos/FCI/Administradoras',\n",
    "           '{mercado}/Titulos/{simbolo}', \n",
    "           '{mercado}/Titulos/{simbolo}/Opciones',\n",
    "           '{pais}/Titulos/Cotizacion/Instrumentos',\n",
    "           'Cotizaciones/{Instrumento}/{Panel}/{Pais}',\n",
    "           '{pais}/Titulos/Cotizacion/Paneles/{instrumento}',\n",
    "           '{Mercado}/Titulos/{Simbolo}/Cotizacion',\n",
    "           'Titulos/FCI/Administradoras/{administradora}/TipoFondos',\n",
    "           'Titulos/FCI/Administradoras/{administradora}/TipoFondos/{tipoFondo}',\n",
    "           '{mercado}/Titulos/{simbolo}/Cotizacion/seriehistorica/{fechaDesde}/{fechaHasta}/{ajustada}']"
   ]
  },
  {
   "cell_type": "code",
   "execution_count": 66,
   "metadata": {
    "scrolled": true
   },
   "outputs": [],
   "source": [
    "#Serie histórica\n",
    "macro = requests.get(url = url + 'BCBA/Titulos/SAN/Cotizacion/seriehistorica/2020-08-04/2020-12-31',\n",
    "                    headers={'Authorization': 'BEARER {0}'.format(access_token)}\n",
    "                       ).json()\n",
    "macro_df = pd.DataFrame(macro)\n",
    "macro_df.to_excel('SANTANDER.xlsx', index=None)"
   ]
  },
  {
   "cell_type": "code",
   "execution_count": 67,
   "metadata": {},
   "outputs": [
    {
     "data": {
      "text/html": [
       "<div>\n",
       "<style scoped>\n",
       "    .dataframe tbody tr th:only-of-type {\n",
       "        vertical-align: middle;\n",
       "    }\n",
       "\n",
       "    .dataframe tbody tr th {\n",
       "        vertical-align: top;\n",
       "    }\n",
       "\n",
       "    .dataframe thead th {\n",
       "        text-align: right;\n",
       "    }\n",
       "</style>\n",
       "<table border=\"1\" class=\"dataframe\">\n",
       "  <thead>\n",
       "    <tr style=\"text-align: right;\">\n",
       "      <th></th>\n",
       "    </tr>\n",
       "  </thead>\n",
       "  <tbody>\n",
       "  </tbody>\n",
       "</table>\n",
       "</div>"
      ],
      "text/plain": [
       "Empty DataFrame\n",
       "Columns: []\n",
       "Index: []"
      ]
     },
     "execution_count": 67,
     "metadata": {},
     "output_type": "execute_result"
    }
   ],
   "source": [
    "macro_df.head()"
   ]
  },
  {
   "cell_type": "code",
   "execution_count": 42,
   "metadata": {},
   "outputs": [],
   "source": [
    "portafolio = requests.get(url = url + mi_cuenta[1],\n",
    "                         headers={'Authorization': 'BEARER {0}'.format(access_token)}\n",
    "                       ).json()"
   ]
  },
  {
   "cell_type": "code",
   "execution_count": 43,
   "metadata": {
    "scrolled": true
   },
   "outputs": [
    {
     "data": {
      "text/plain": [
       "{'pais': 'argentina', 'activos': []}"
      ]
     },
     "execution_count": 43,
     "metadata": {},
     "output_type": "execute_result"
    }
   ],
   "source": [
    "portafolio"
   ]
  },
  {
   "cell_type": "code",
   "execution_count": 12,
   "metadata": {
    "scrolled": true
   },
   "outputs": [
    {
     "data": {
      "text/plain": [
       "[]"
      ]
     },
     "execution_count": 12,
     "metadata": {},
     "output_type": "execute_result"
    }
   ],
   "source": [
    "fci = requests.get(url = url + 'BCBA/Titulos/CNXPOPA/Cotizacion/seriehistorica/2021-06-18/2021-07-19',\n",
    "                    headers={'Authorization': 'BEARER {0}'.format(access_token)}\n",
    "                       ).json()\n",
    "#fci_df = pd.DataFrame(fci, index=[0])\n",
    "#fci_df.head()\n",
    "fci"
   ]
  },
  {
   "cell_type": "code",
   "execution_count": 13,
   "metadata": {
    "scrolled": true
   },
   "outputs": [
    {
     "data": {
      "text/html": [
       "<div>\n",
       "<style scoped>\n",
       "    .dataframe tbody tr th:only-of-type {\n",
       "        vertical-align: middle;\n",
       "    }\n",
       "\n",
       "    .dataframe tbody tr th {\n",
       "        vertical-align: top;\n",
       "    }\n",
       "\n",
       "    .dataframe thead th {\n",
       "        text-align: right;\n",
       "    }\n",
       "</style>\n",
       "<table border=\"1\" class=\"dataframe\">\n",
       "  <thead>\n",
       "    <tr style=\"text-align: right;\">\n",
       "      <th></th>\n",
       "    </tr>\n",
       "  </thead>\n",
       "  <tbody>\n",
       "    <tr>\n",
       "      <th>0</th>\n",
       "    </tr>\n",
       "  </tbody>\n",
       "</table>\n",
       "</div>"
      ],
      "text/plain": [
       "Empty DataFrame\n",
       "Columns: []\n",
       "Index: [0]"
      ]
     },
     "execution_count": 13,
     "metadata": {},
     "output_type": "execute_result"
    }
   ],
   "source": [
    "bono = requests.get(url = url + 'BCBA/Titulos/AA21D/Cotizacion/seriehistorica/2021-02-01/2021-02-02',\n",
    "                    headers={'Authorization': 'BEARER {0}'.format(access_token)}\n",
    "                       ).json()\n",
    "bono_df = pd.DataFrame(bono, index=[0])\n",
    "bono_df.head()"
   ]
  },
  {
   "cell_type": "code",
   "execution_count": 14,
   "metadata": {},
   "outputs": [
    {
     "data": {
      "text/html": [
       "<div>\n",
       "<style scoped>\n",
       "    .dataframe tbody tr th:only-of-type {\n",
       "        vertical-align: middle;\n",
       "    }\n",
       "\n",
       "    .dataframe tbody tr th {\n",
       "        vertical-align: top;\n",
       "    }\n",
       "\n",
       "    .dataframe thead th {\n",
       "        text-align: right;\n",
       "    }\n",
       "</style>\n",
       "<table border=\"1\" class=\"dataframe\">\n",
       "  <thead>\n",
       "    <tr style=\"text-align: right;\">\n",
       "      <th></th>\n",
       "      <th>ultimoPrecio</th>\n",
       "      <th>variacion</th>\n",
       "      <th>apertura</th>\n",
       "      <th>maximo</th>\n",
       "      <th>minimo</th>\n",
       "      <th>fechaHora</th>\n",
       "      <th>tendencia</th>\n",
       "      <th>cierreAnterior</th>\n",
       "      <th>montoOperado</th>\n",
       "      <th>volumenNominal</th>\n",
       "      <th>precioPromedio</th>\n",
       "      <th>moneda</th>\n",
       "      <th>precioAjuste</th>\n",
       "      <th>interesesAbiertos</th>\n",
       "      <th>puntas</th>\n",
       "      <th>cantidadOperaciones</th>\n",
       "    </tr>\n",
       "  </thead>\n",
       "  <tbody>\n",
       "    <tr>\n",
       "      <th>0</th>\n",
       "      <td>155.65</td>\n",
       "      <td>0.0</td>\n",
       "      <td>155.00</td>\n",
       "      <td>161.70</td>\n",
       "      <td>152.25</td>\n",
       "      <td>2020-12-30T17:00:08.05</td>\n",
       "      <td>sube</td>\n",
       "      <td>0.0</td>\n",
       "      <td>24919304.95</td>\n",
       "      <td>157420</td>\n",
       "      <td>0.0</td>\n",
       "      <td>peso_Argentino</td>\n",
       "      <td>0.0</td>\n",
       "      <td>0.0</td>\n",
       "      <td>None</td>\n",
       "      <td>0</td>\n",
       "    </tr>\n",
       "    <tr>\n",
       "      <th>1</th>\n",
       "      <td>154.70</td>\n",
       "      <td>0.0</td>\n",
       "      <td>151.00</td>\n",
       "      <td>158.90</td>\n",
       "      <td>151.00</td>\n",
       "      <td>2020-12-29T17:00:06.303</td>\n",
       "      <td>sube</td>\n",
       "      <td>0.0</td>\n",
       "      <td>15507240.65</td>\n",
       "      <td>100051</td>\n",
       "      <td>0.0</td>\n",
       "      <td>peso_Argentino</td>\n",
       "      <td>0.0</td>\n",
       "      <td>0.0</td>\n",
       "      <td>None</td>\n",
       "      <td>0</td>\n",
       "    </tr>\n",
       "    <tr>\n",
       "      <th>2</th>\n",
       "      <td>150.55</td>\n",
       "      <td>0.0</td>\n",
       "      <td>154.15</td>\n",
       "      <td>156.25</td>\n",
       "      <td>148.00</td>\n",
       "      <td>2020-12-28T17:00:06.713</td>\n",
       "      <td>sube</td>\n",
       "      <td>0.0</td>\n",
       "      <td>22634549.15</td>\n",
       "      <td>147433</td>\n",
       "      <td>0.0</td>\n",
       "      <td>peso_Argentino</td>\n",
       "      <td>0.0</td>\n",
       "      <td>0.0</td>\n",
       "      <td>None</td>\n",
       "      <td>0</td>\n",
       "    </tr>\n",
       "    <tr>\n",
       "      <th>3</th>\n",
       "      <td>154.15</td>\n",
       "      <td>0.0</td>\n",
       "      <td>147.70</td>\n",
       "      <td>154.50</td>\n",
       "      <td>145.00</td>\n",
       "      <td>2020-12-23T17:00:06.753</td>\n",
       "      <td>sube</td>\n",
       "      <td>0.0</td>\n",
       "      <td>10763987.70</td>\n",
       "      <td>71452</td>\n",
       "      <td>0.0</td>\n",
       "      <td>peso_Argentino</td>\n",
       "      <td>0.0</td>\n",
       "      <td>0.0</td>\n",
       "      <td>None</td>\n",
       "      <td>0</td>\n",
       "    </tr>\n",
       "    <tr>\n",
       "      <th>4</th>\n",
       "      <td>147.70</td>\n",
       "      <td>0.0</td>\n",
       "      <td>143.35</td>\n",
       "      <td>149.50</td>\n",
       "      <td>142.00</td>\n",
       "      <td>2020-12-22T17:00:07.103</td>\n",
       "      <td>sube</td>\n",
       "      <td>0.0</td>\n",
       "      <td>35989494.65</td>\n",
       "      <td>244489</td>\n",
       "      <td>0.0</td>\n",
       "      <td>peso_Argentino</td>\n",
       "      <td>0.0</td>\n",
       "      <td>0.0</td>\n",
       "      <td>None</td>\n",
       "      <td>0</td>\n",
       "    </tr>\n",
       "  </tbody>\n",
       "</table>\n",
       "</div>"
      ],
      "text/plain": [
       "   ultimoPrecio  variacion  apertura  maximo  minimo                fechaHora  \\\n",
       "0        155.65        0.0    155.00  161.70  152.25   2020-12-30T17:00:08.05   \n",
       "1        154.70        0.0    151.00  158.90  151.00  2020-12-29T17:00:06.303   \n",
       "2        150.55        0.0    154.15  156.25  148.00  2020-12-28T17:00:06.713   \n",
       "3        154.15        0.0    147.70  154.50  145.00  2020-12-23T17:00:06.753   \n",
       "4        147.70        0.0    143.35  149.50  142.00  2020-12-22T17:00:07.103   \n",
       "\n",
       "  tendencia  cierreAnterior  montoOperado  volumenNominal  precioPromedio  \\\n",
       "0      sube             0.0   24919304.95          157420             0.0   \n",
       "1      sube             0.0   15507240.65          100051             0.0   \n",
       "2      sube             0.0   22634549.15          147433             0.0   \n",
       "3      sube             0.0   10763987.70           71452             0.0   \n",
       "4      sube             0.0   35989494.65          244489             0.0   \n",
       "\n",
       "           moneda  precioAjuste  interesesAbiertos puntas  cantidadOperaciones  \n",
       "0  peso_Argentino           0.0                0.0   None                    0  \n",
       "1  peso_Argentino           0.0                0.0   None                    0  \n",
       "2  peso_Argentino           0.0                0.0   None                    0  \n",
       "3  peso_Argentino           0.0                0.0   None                    0  \n",
       "4  peso_Argentino           0.0                0.0   None                    0  "
      ]
     },
     "execution_count": 14,
     "metadata": {},
     "output_type": "execute_result"
    }
   ],
   "source": [
    "#Serie histórica\n",
    "bbva = requests.get(url = url + 'BCBA/Titulos/BBAR/Cotizacion/seriehistorica/2014-01-01/2020-12-31',\n",
    "                    headers={'Authorization': 'BEARER {0}'.format(access_token)}\n",
    "                       ).json()\n",
    "bbva_df = pd.DataFrame(bbva)\n",
    "bbva_df.head()"
   ]
  },
  {
   "cell_type": "code",
   "execution_count": 15,
   "metadata": {},
   "outputs": [],
   "source": [
    "bbva_df.to_excel('BBVA.xlsx', index=None)"
   ]
  },
  {
   "cell_type": "code",
   "execution_count": null,
   "metadata": {},
   "outputs": [],
   "source": []
  },
  {
   "cell_type": "code",
   "execution_count": null,
   "metadata": {},
   "outputs": [],
   "source": []
  },
  {
   "cell_type": "code",
   "execution_count": 127,
   "metadata": {},
   "outputs": [],
   "source": [
    "ggal_call = requests.get(url = url + 'BCBA/Titulos/GGAL/Opciones',\n",
    "                    headers={'Authorization': 'BEARER {0}'.format(access_token)}\n",
    "                       ).json()"
   ]
  },
  {
   "cell_type": "code",
   "execution_count": 165,
   "metadata": {
    "scrolled": true
   },
   "outputs": [],
   "source": [
    "stock = pd.DataFrame()\n",
    "cot = pd.DataFrame()\n",
    "for i in range(0,len(ggal_call)): \n",
    "    df_cot = pd.DataFrame(ggal_call[i]['cotizacion'], index=[i])\n",
    "    df_stock = pd.DataFrame(ggal_call[i],index=[i])\n",
    "    cot = pd.concat([cot, df_cot])\n",
    "    stock = pd.concat([stock, df_stock])\n",
    "df = stock.merge(cot, how='outer',left_index=True,right_index=True,)"
   ]
  },
  {
   "cell_type": "code",
   "execution_count": 11,
   "metadata": {
    "scrolled": true
   },
   "outputs": [],
   "source": [
    "#Opciones\n",
    "call = requests.get(url = url + 'BCBA/Titulos/GFGC170.Oc/Cotizacion',\n",
    "                    headers={'Authorization': 'BEARER {0}'.format(access_token)}).json()"
   ]
  },
  {
   "cell_type": "code",
   "execution_count": 12,
   "metadata": {
    "scrolled": true
   },
   "outputs": [
    {
     "data": {
      "text/plain": [
       "6.33"
      ]
     },
     "execution_count": 12,
     "metadata": {},
     "output_type": "execute_result"
    }
   ],
   "source": [
    "call['ultimoPrecio']"
   ]
  },
  {
   "cell_type": "code",
   "execution_count": null,
   "metadata": {},
   "outputs": [],
   "source": []
  }
 ],
 "metadata": {
  "kernelspec": {
   "display_name": "Python 3",
   "language": "python",
   "name": "python3"
  },
  "language_info": {
   "codemirror_mode": {
    "name": "ipython",
    "version": 3
   },
   "file_extension": ".py",
   "mimetype": "text/x-python",
   "name": "python",
   "nbconvert_exporter": "python",
   "pygments_lexer": "ipython3",
   "version": "3.8.3"
  }
 },
 "nbformat": 4,
 "nbformat_minor": 2
}
