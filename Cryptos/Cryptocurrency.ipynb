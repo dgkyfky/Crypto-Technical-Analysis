{
 "cells": [
  {
   "cell_type": "markdown",
   "metadata": {},
   "source": [
    "# Importacion de Paquetes"
   ]
  },
  {
   "cell_type": "code",
   "execution_count": 1,
   "metadata": {},
   "outputs": [],
   "source": [
    "import datetime\n",
    "from datetime import date\n",
    "import yfinance as yf\n",
    "import pandas as pd\n",
    "from pandas_datareader import data as pdr\n",
    "import numpy as np\n",
    "from numpy import random\n",
    "from scipy.stats import norm\n",
    "import matplotlib.pyplot as plt"
   ]
  },
  {
   "cell_type": "markdown",
   "metadata": {},
   "source": [
    "# Lectura de Acciones"
   ]
  },
  {
   "cell_type": "code",
   "execution_count": 2,
   "metadata": {},
   "outputs": [],
   "source": [
    "today = (date.today() + datetime.timedelta(days=1)).strftime('%Y-%m-%d')\n",
    "year_ago = (date.today() - datetime.timedelta(days=366)).strftime('%Y-%m-%d')"
   ]
  },
  {
   "cell_type": "code",
   "execution_count": 4,
   "metadata": {},
   "outputs": [],
   "source": [
    "acciones = 'BTC-USD,ETH-USD,BCH-USD,DASH-USD,ZEC-USD'\n",
    "start_date = year_ago ## Incluye esta fecha\n",
    "end_date = today ## No incluye esta fecha\n",
    "intervalo = '1d'"
   ]
  },
  {
   "cell_type": "code",
   "execution_count": 5,
   "metadata": {},
   "outputs": [
    {
     "name": "stdout",
     "output_type": "stream",
     "text": [
      "[*********************100%***********************]  5 of 5 completed\n"
     ]
    }
   ],
   "source": [
    "stock_prices = yf.download(\n",
    "                    acciones,\n",
    "                    start = start_date,\n",
    "                    end = end_date,\n",
    "                    interval = intervalo\n",
    "                #    group_by=\"ticker\" #Para ordenar por cuenta y no por columna\n",
    "                )['Adj Close']\n",
    "#Incluir minimo 2 acciones, sino no te lo deja ordenar. \n",
    "#No lo toma como un df, lo toma como una lista si es una sola accion.\n",
    "stock_prices.sort_values('Date',ascending=False,inplace=True)\n",
    "stock_prices.reset_index(inplace=True)"
   ]
  },
  {
   "cell_type": "code",
   "execution_count": 16,
   "metadata": {
    "scrolled": true
   },
   "outputs": [
    {
     "data": {
      "text/plain": [
       "0.0028499999999999997"
      ]
     },
     "execution_count": 16,
     "metadata": {},
     "output_type": "execute_result"
    }
   ],
   "source": [
    "#Treasury Yield 5 Years\n",
    "tasas = yf.Ticker('^FVX')\n",
    "r_f = tasas.history()['Close'][0]/100\n",
    "r_f"
   ]
  },
  {
   "cell_type": "code",
   "execution_count": 6,
   "metadata": {
    "scrolled": true
   },
   "outputs": [
    {
     "data": {
      "text/html": [
       "<div>\n",
       "<style scoped>\n",
       "    .dataframe tbody tr th:only-of-type {\n",
       "        vertical-align: middle;\n",
       "    }\n",
       "\n",
       "    .dataframe tbody tr th {\n",
       "        vertical-align: top;\n",
       "    }\n",
       "\n",
       "    .dataframe thead th {\n",
       "        text-align: right;\n",
       "    }\n",
       "</style>\n",
       "<table border=\"1\" class=\"dataframe\">\n",
       "  <thead>\n",
       "    <tr style=\"text-align: right;\">\n",
       "      <th></th>\n",
       "      <th>Date</th>\n",
       "      <th>BCH-USD</th>\n",
       "      <th>BTC-USD</th>\n",
       "      <th>DASH-USD</th>\n",
       "      <th>ETH-USD</th>\n",
       "      <th>ZEC-USD</th>\n",
       "    </tr>\n",
       "  </thead>\n",
       "  <tbody>\n",
       "    <tr>\n",
       "      <td>0</td>\n",
       "      <td>2020-08-27</td>\n",
       "      <td>267.158600</td>\n",
       "      <td>11343.941406</td>\n",
       "      <td>83.980301</td>\n",
       "      <td>383.520538</td>\n",
       "      <td>75.003059</td>\n",
       "    </tr>\n",
       "    <tr>\n",
       "      <td>1</td>\n",
       "      <td>2020-08-26</td>\n",
       "      <td>275.571014</td>\n",
       "      <td>11488.363281</td>\n",
       "      <td>86.129669</td>\n",
       "      <td>386.466125</td>\n",
       "      <td>76.545006</td>\n",
       "    </tr>\n",
       "    <tr>\n",
       "      <td>2</td>\n",
       "      <td>2020-08-25</td>\n",
       "      <td>276.799194</td>\n",
       "      <td>11366.134766</td>\n",
       "      <td>85.157166</td>\n",
       "      <td>384.001038</td>\n",
       "      <td>74.615974</td>\n",
       "    </tr>\n",
       "    <tr>\n",
       "      <td>3</td>\n",
       "      <td>2020-08-24</td>\n",
       "      <td>291.325958</td>\n",
       "      <td>11774.595703</td>\n",
       "      <td>91.947929</td>\n",
       "      <td>408.144196</td>\n",
       "      <td>80.794983</td>\n",
       "    </tr>\n",
       "    <tr>\n",
       "      <td>4</td>\n",
       "      <td>2020-08-23</td>\n",
       "      <td>284.957062</td>\n",
       "      <td>11664.847656</td>\n",
       "      <td>91.635933</td>\n",
       "      <td>391.384491</td>\n",
       "      <td>83.611275</td>\n",
       "    </tr>\n",
       "    <tr>\n",
       "      <td>...</td>\n",
       "      <td>...</td>\n",
       "      <td>...</td>\n",
       "      <td>...</td>\n",
       "      <td>...</td>\n",
       "      <td>...</td>\n",
       "      <td>...</td>\n",
       "    </tr>\n",
       "    <tr>\n",
       "      <td>361</td>\n",
       "      <td>2019-08-31</td>\n",
       "      <td>279.939514</td>\n",
       "      <td>9630.664062</td>\n",
       "      <td>80.186623</td>\n",
       "      <td>172.469788</td>\n",
       "      <td>44.769917</td>\n",
       "    </tr>\n",
       "    <tr>\n",
       "      <td>362</td>\n",
       "      <td>2019-08-30</td>\n",
       "      <td>279.870270</td>\n",
       "      <td>9598.173828</td>\n",
       "      <td>80.579132</td>\n",
       "      <td>168.834869</td>\n",
       "      <td>44.632565</td>\n",
       "    </tr>\n",
       "    <tr>\n",
       "      <td>363</td>\n",
       "      <td>2019-08-29</td>\n",
       "      <td>280.739716</td>\n",
       "      <td>9510.200195</td>\n",
       "      <td>80.251068</td>\n",
       "      <td>169.516739</td>\n",
       "      <td>44.956474</td>\n",
       "    </tr>\n",
       "    <tr>\n",
       "      <td>364</td>\n",
       "      <td>2019-08-28</td>\n",
       "      <td>292.192139</td>\n",
       "      <td>9754.422852</td>\n",
       "      <td>84.958755</td>\n",
       "      <td>173.889969</td>\n",
       "      <td>46.496689</td>\n",
       "    </tr>\n",
       "    <tr>\n",
       "      <td>365</td>\n",
       "      <td>2019-08-27</td>\n",
       "      <td>308.040466</td>\n",
       "      <td>10185.500000</td>\n",
       "      <td>90.703201</td>\n",
       "      <td>187.516663</td>\n",
       "      <td>50.435474</td>\n",
       "    </tr>\n",
       "  </tbody>\n",
       "</table>\n",
       "<p>366 rows × 6 columns</p>\n",
       "</div>"
      ],
      "text/plain": [
       "          Date     BCH-USD       BTC-USD   DASH-USD     ETH-USD    ZEC-USD\n",
       "0   2020-08-27  267.158600  11343.941406  83.980301  383.520538  75.003059\n",
       "1   2020-08-26  275.571014  11488.363281  86.129669  386.466125  76.545006\n",
       "2   2020-08-25  276.799194  11366.134766  85.157166  384.001038  74.615974\n",
       "3   2020-08-24  291.325958  11774.595703  91.947929  408.144196  80.794983\n",
       "4   2020-08-23  284.957062  11664.847656  91.635933  391.384491  83.611275\n",
       "..         ...         ...           ...        ...         ...        ...\n",
       "361 2019-08-31  279.939514   9630.664062  80.186623  172.469788  44.769917\n",
       "362 2019-08-30  279.870270   9598.173828  80.579132  168.834869  44.632565\n",
       "363 2019-08-29  280.739716   9510.200195  80.251068  169.516739  44.956474\n",
       "364 2019-08-28  292.192139   9754.422852  84.958755  173.889969  46.496689\n",
       "365 2019-08-27  308.040466  10185.500000  90.703201  187.516663  50.435474\n",
       "\n",
       "[366 rows x 6 columns]"
      ]
     },
     "execution_count": 6,
     "metadata": {},
     "output_type": "execute_result"
    }
   ],
   "source": [
    "stock_prices"
   ]
  },
  {
   "cell_type": "markdown",
   "metadata": {},
   "source": [
    "# Modelo CAPM"
   ]
  },
  {
   "cell_type": "code",
   "execution_count": 40,
   "metadata": {
    "scrolled": true
   },
   "outputs": [],
   "source": [
    "#Retornos Logarítmicos en t = ln(St/St-1)\n",
    "rend = np.log(stock_prices.iloc[:,1:].shift(1) / stock_prices.iloc[:,1:])\n",
    "#Rendimiento diario de mercado\n",
    "Rm = rend.mean()[0]\n",
    "#Varianza de mercado\n",
    "matriz = rend.cov()\n",
    "var_mercado = rend.var()[0]\n",
    "#Covarianza con el indice de mercado\n",
    "cov_activo_mercado = matriz.iloc[0,1]\n",
    "#Beta\n",
    "beta = cov_activo_mercado / var_mercado"
   ]
  },
  {
   "cell_type": "code",
   "execution_count": 41,
   "metadata": {
    "scrolled": true
   },
   "outputs": [],
   "source": [
    "######################------------------Revisar las Tasa Libre de Riesgo------------------######################\n",
    "#https://www.bna.com.ar/SimuladorPlazoFijo/SubInterna/PlazoFijo?subInterna=SimuladorPlazoFijo&id=PFWeb\n",
    "#Tasa libre de riesgo\n",
    "#rf = yf.Ticker('^FVX').history().reset_index()\n",
    "#rf = rf['Close'][rf['Date']==today]\n",
    "#TNA Anual ==> Convertirla a Tasa efectiva Anual: (1+rf*30/365)\n",
    "i_anual = 0.33\n",
    "i_mensual = i_anual*30/365\n",
    "i_diaria = i_anual*1/356"
   ]
  },
  {
   "cell_type": "code",
   "execution_count": 42,
   "metadata": {},
   "outputs": [],
   "source": [
    "#Rendimiento esperado DIARIO\n",
    "Ri = (Rm - i_diaria) * beta + i_diaria"
   ]
  },
  {
   "cell_type": "code",
   "execution_count": null,
   "metadata": {},
   "outputs": [],
   "source": [
    "# Importacion de Paquetes\n",
    "\n",
    "import datetime\n",
    "from datetime import date\n",
    "import yfinance as yf\n",
    "import pandas as pd\n",
    "from pandas_datareader import data as pdr\n",
    "import numpy as np\n",
    "from numpy import random\n",
    "from scipy.stats import norm\n",
    "import matplotlib.pyplot as plt\n",
    "\n",
    "# Lectura de Acciones\n",
    "\n",
    "today = (date.today() - datetime.timedelta(days=1)).strftime('%Y-%m-%d')\n",
    "year_ago = (date.today() - datetime.timedelta(days=366)).strftime('%Y-%m-%d')\n",
    "\n",
    "\n",
    "\n",
    "acciones = 'GGAL.BA,BYMA.BA'\n",
    "start_date = year_ago ## Incluye esta fecha\n",
    "end_date = today ## No incluye esta fecha\n",
    "intervalo = '1d'\n",
    "\n",
    "stock_prices = yf.download(\n",
    "                    acciones,\n",
    "                    start = start_date,\n",
    "                    end = end_date,\n",
    "                    interval = intervalo\n",
    "                #    group_by=\"ticker\" #Para ordenar por cuenta y no por columna\n",
    "                )['Adj Close']\n",
    "#Incluir minimo 2 acciones, sino no te lo deja ordenar. \n",
    "#No lo toma como un df, lo toma como una lista si es una sola accion.\n",
    "stock_prices.sort_values('Date',ascending=False,inplace=True)\n",
    "stock_prices.reset_index(inplace=True)\n",
    "\n",
    "stock_prices# Modelo CAPM\n",
    "\n",
    "#Retornos Logarítmicos en t = ln(St/St-1)\n",
    "rend = np.log(stock_prices.iloc[:,1:].shift(1) / stock_prices.iloc[:,1:])\n",
    "#Rendimiento diario de mercado\n",
    "Rm = rend.mean()[0]\n",
    "#Varianza de mercado\n",
    "matriz = rend.cov()\n",
    "var_mercado = rend.var()[0]\n",
    "#Covarianza con el indice de mercado\n",
    "cov_activo_mercado = matriz.iloc[0,1]\n",
    "#Beta\n",
    "beta = cov_activo_mercado / var_mercado\n",
    "\n",
    "######################------------------Revisar las Tasa Libre de Riesgo------------------######################\n",
    "#https://www.bna.com.ar/SimuladorPlazoFijo/SubInterna/PlazoFijo?subInterna=SimuladorPlazoFijo&id=PFWeb\n",
    "#Tasa libre de riesgo\n",
    "#rf = yf.Ticker('^FVX').history().reset_index()\n",
    "#rf = rf['Close'][rf['Date']==today]\n",
    "#TNA Anual ==> Convertirla a Tasa efectiva Anual: (1+rf*30/365)\n",
    "i_anual = 0.33\n",
    "i_mensual = i_anual*30/365\n",
    "i_diaria = i_anual*1/356\n",
    "\n",
    "#Rendimiento esperado DIARIO\n",
    "Ri = (Rm - i_diaria) * beta + i_diaria"
   ]
  },
  {
   "cell_type": "code",
   "execution_count": null,
   "metadata": {},
   "outputs": [],
   "source": []
  }
 ],
 "metadata": {
  "kernelspec": {
   "display_name": "Python 3",
   "language": "python",
   "name": "python3"
  },
  "language_info": {
   "codemirror_mode": {
    "name": "ipython",
    "version": 3
   },
   "file_extension": ".py",
   "mimetype": "text/x-python",
   "name": "python",
   "nbconvert_exporter": "python",
   "pygments_lexer": "ipython3",
   "version": "3.8.8"
  }
 },
 "nbformat": 4,
 "nbformat_minor": 2
}
