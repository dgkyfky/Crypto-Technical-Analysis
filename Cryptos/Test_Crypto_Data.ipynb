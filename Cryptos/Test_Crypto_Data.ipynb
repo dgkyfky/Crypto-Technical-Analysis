{
 "cells": [
  {
   "cell_type": "markdown",
   "metadata": {},
   "source": [
    "#### Mostrar el funcionamiento de data_crypto.py"
   ]
  },
  {
   "cell_type": "code",
   "execution_count": 1,
   "metadata": {
    "scrolled": false
   },
   "outputs": [
    {
     "data": {
      "text/html": [
       "<div>\n",
       "<style scoped>\n",
       "    .dataframe tbody tr th:only-of-type {\n",
       "        vertical-align: middle;\n",
       "    }\n",
       "\n",
       "    .dataframe tbody tr th {\n",
       "        vertical-align: top;\n",
       "    }\n",
       "\n",
       "    .dataframe thead th {\n",
       "        text-align: right;\n",
       "    }\n",
       "</style>\n",
       "<table border=\"1\" class=\"dataframe\">\n",
       "  <thead>\n",
       "    <tr style=\"text-align: right;\">\n",
       "      <th></th>\n",
       "      <th>Date</th>\n",
       "      <th>Open</th>\n",
       "      <th>High</th>\n",
       "      <th>Low</th>\n",
       "      <th>Close</th>\n",
       "      <th>Volumen</th>\n",
       "      <th>Volumen USD</th>\n",
       "    </tr>\n",
       "  </thead>\n",
       "  <tbody>\n",
       "    <tr>\n",
       "      <th>0</th>\n",
       "      <td>2021-06-09 21:00:00</td>\n",
       "      <td>37388.05</td>\n",
       "      <td>37500.00</td>\n",
       "      <td>37332.02</td>\n",
       "      <td>37360.81</td>\n",
       "      <td>187.349405</td>\n",
       "      <td>7.010708e+06</td>\n",
       "    </tr>\n",
       "    <tr>\n",
       "      <th>1</th>\n",
       "      <td>2021-06-09 21:01:00</td>\n",
       "      <td>37360.16</td>\n",
       "      <td>37362.40</td>\n",
       "      <td>37254.05</td>\n",
       "      <td>37300.10</td>\n",
       "      <td>129.608035</td>\n",
       "      <td>4.836716e+06</td>\n",
       "    </tr>\n",
       "    <tr>\n",
       "      <th>2</th>\n",
       "      <td>2021-06-09 21:02:00</td>\n",
       "      <td>37300.10</td>\n",
       "      <td>37600.00</td>\n",
       "      <td>37285.33</td>\n",
       "      <td>37590.43</td>\n",
       "      <td>493.686233</td>\n",
       "      <td>1.850694e+07</td>\n",
       "    </tr>\n",
       "    <tr>\n",
       "      <th>3</th>\n",
       "      <td>2021-06-09 21:03:00</td>\n",
       "      <td>37594.80</td>\n",
       "      <td>37666.11</td>\n",
       "      <td>37468.27</td>\n",
       "      <td>37468.27</td>\n",
       "      <td>263.947250</td>\n",
       "      <td>9.925112e+06</td>\n",
       "    </tr>\n",
       "    <tr>\n",
       "      <th>4</th>\n",
       "      <td>2021-06-09 21:04:00</td>\n",
       "      <td>37468.27</td>\n",
       "      <td>37532.69</td>\n",
       "      <td>37368.46</td>\n",
       "      <td>37377.01</td>\n",
       "      <td>180.746850</td>\n",
       "      <td>6.767694e+06</td>\n",
       "    </tr>\n",
       "  </tbody>\n",
       "</table>\n",
       "</div>"
      ],
      "text/plain": [
       "                 Date      Open      High       Low     Close     Volumen  \\\n",
       "0 2021-06-09 21:00:00  37388.05  37500.00  37332.02  37360.81  187.349405   \n",
       "1 2021-06-09 21:01:00  37360.16  37362.40  37254.05  37300.10  129.608035   \n",
       "2 2021-06-09 21:02:00  37300.10  37600.00  37285.33  37590.43  493.686233   \n",
       "3 2021-06-09 21:03:00  37594.80  37666.11  37468.27  37468.27  263.947250   \n",
       "4 2021-06-09 21:04:00  37468.27  37532.69  37368.46  37377.01  180.746850   \n",
       "\n",
       "    Volumen USD  \n",
       "0  7.010708e+06  \n",
       "1  4.836716e+06  \n",
       "2  1.850694e+07  \n",
       "3  9.925112e+06  \n",
       "4  6.767694e+06  "
      ]
     },
     "execution_count": 1,
     "metadata": {},
     "output_type": "execute_result"
    }
   ],
   "source": [
    "from download import data_crypto\n",
    "con = data_crypto.data_crypto()\n",
    "\n",
    "params = {\"crypto\": 'BTC',\n",
    "          \"days_back\": 5,\n",
    "          \"time\": '1MINUTE'}\n",
    "\n",
    "c_data = con.crypto_download(params)\n",
    "c_data.head()"
   ]
  },
  {
   "cell_type": "code",
   "execution_count": null,
   "metadata": {},
   "outputs": [],
   "source": []
  }
 ],
 "metadata": {
  "kernelspec": {
   "display_name": "Python 3",
   "language": "python",
   "name": "python3"
  },
  "language_info": {
   "codemirror_mode": {
    "name": "ipython",
    "version": 3
   },
   "file_extension": ".py",
   "mimetype": "text/x-python",
   "name": "python",
   "nbconvert_exporter": "python",
   "pygments_lexer": "ipython3",
   "version": "3.8.8"
  }
 },
 "nbformat": 4,
 "nbformat_minor": 4
}
